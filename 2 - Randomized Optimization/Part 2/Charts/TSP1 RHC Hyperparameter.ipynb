{
 "cells": [
  {
   "cell_type": "code",
   "execution_count": 16,
   "metadata": {
    "collapsed": true
   },
   "outputs": [],
   "source": [
    "import pandas as pd\n",
    "import numpy as np\n",
    "import matplotlib.pyplot as plt\n",
    "import glob"
   ]
  },
  {
   "cell_type": "code",
   "execution_count": 17,
   "metadata": {
    "collapsed": true
   },
   "outputs": [],
   "source": [
    "files = glob.glob('../TSP/RHC/*.csv')\n",
    "files.sort()\n",
    "#Number of Trials\n",
    "trials = 5\n",
    "#File name beginining\n",
    "nb = 15\n",
    "#File name ending\n",
    "ne = -10\n",
    "#Output file\n",
    "name = '../TSP/tsp.csv'\n",
    "#Range\n",
    "r = [5,10,50,100,150,200,250,300]"
   ]
  },
  {
   "cell_type": "code",
   "execution_count": 18,
   "metadata": {},
   "outputs": [
    {
     "data": {
      "text/plain": [
       "['../TSP/RHC/TSP_RHC_1_LOG.csv',\n",
       " '../TSP/RHC/TSP_RHC_2_LOG.csv',\n",
       " '../TSP/RHC/TSP_RHC_3_LOG.csv',\n",
       " '../TSP/RHC/TSP_RHC_4_LOG.csv',\n",
       " '../TSP/RHC/TSP_RHC_5_LOG.csv']"
      ]
     },
     "execution_count": 18,
     "metadata": {},
     "output_type": "execute_result"
    }
   ],
   "source": [
    "files"
   ]
  },
  {
   "cell_type": "code",
   "execution_count": 19,
   "metadata": {
    "collapsed": true
   },
   "outputs": [],
   "source": [
    "dfs = []\n",
    "for indx, f in enumerate(files):\n",
    "    dfs.append(pd.read_csv(f))"
   ]
  },
  {
   "cell_type": "code",
   "execution_count": 20,
   "metadata": {
    "collapsed": true
   },
   "outputs": [],
   "source": [
    "df_concats = []\n",
    "for x in range(0,len(dfs),trials):\n",
    "    df_concat = pd.concat([dfs[x+i] for i in range(trials)])\n",
    "    by_row_index = df_concat.groupby(df_concat.index)\n",
    "    df_means = by_row_index.mean()\n",
    "    df_concats.append(df_means.loc[r])"
   ]
  },
  {
   "cell_type": "code",
   "execution_count": 21,
   "metadata": {},
   "outputs": [
    {
     "data": {
      "image/png": "[encoded data removed]",
      "text/plain": [
       "<matplotlib.figure.Figure at 0x113c1d400>"
      ]
     },
     "metadata": {},
     "output_type": "display_data"
    }
   ],
   "source": [
    "ax = plt.subplot(111)\n",
    "for i,row in enumerate(df_concats):\n",
    "    ax.plot(row[['iterations']],row[['fitness']], label = files[i*trials][nb:ne])\n",
    "    \n",
    "ax.legend()    \n",
    "chartBox = ax.get_position()\n",
    "ax.legend(loc='upper center', bbox_to_anchor=(0.5, -0.05),  shadow=True, ncol=2)\n",
    "plt.show()"
   ]
  },
  {
   "cell_type": "code",
   "execution_count": 22,
   "metadata": {},
   "outputs": [
    {
     "data": {
      "image/png": "[encoded data removed]",
      "text/plain": [
       "<matplotlib.figure.Figure at 0x113c167b8>"
      ]
     },
     "metadata": {},
     "output_type": "display_data"
    }
   ],
   "source": [
    "ax = plt.subplot(111)\n",
    "for i,row in enumerate(df_concats):\n",
    "    ax.plot(row[['iterations']],row[['time']], label = files[i*trials][nb:ne])\n",
    "    \n",
    "ax.legend()    \n",
    "chartBox = ax.get_position()\n",
    "ax.legend(loc='upper center', bbox_to_anchor=(0.5, -0.05),  shadow=True, ncol=2)\n",
    "plt.show()"
   ]
  },
  {
   "cell_type": "code",
   "execution_count": 23,
   "metadata": {},
   "outputs": [
    {
     "name": "stdout",
     "output_type": "stream",
     "text": [
      "0 RHC\n"
     ]
    }
   ],
   "source": [
    "for i in range(len(df_concats)):\n",
    "    print(i, files[i*trials][nb:ne])"
   ]
  },
  {
   "cell_type": "code",
   "execution_count": 24,
   "metadata": {},
   "outputs": [
    {
     "data": {
      "text/html": [
       "<div>\n",
       "<style>\n",
       "    .dataframe thead tr:only-child th {\n",
       "        text-align: right;\n",
       "    }\n",
       "\n",
       "    .dataframe thead th {\n",
       "        text-align: left;\n",
       "    }\n",
       "\n",
       "    .dataframe tbody tr th {\n",
       "        vertical-align: top;\n",
       "    }\n",
       "</style>\n",
       "<table border=\"1\" class=\"dataframe\">\n",
       "  <thead>\n",
       "    <tr style=\"text-align: right;\">\n",
       "      <th></th>\n",
       "      <th>iterations</th>\n",
       "      <th>fitness</th>\n",
       "      <th>time</th>\n",
       "      <th>fevals</th>\n",
       "    </tr>\n",
       "  </thead>\n",
       "  <tbody>\n",
       "    <tr>\n",
       "      <th>5</th>\n",
       "      <td>50</td>\n",
       "      <td>0.024550</td>\n",
       "      <td>0.002126</td>\n",
       "      <td>61</td>\n",
       "    </tr>\n",
       "    <tr>\n",
       "      <th>10</th>\n",
       "      <td>100</td>\n",
       "      <td>0.027573</td>\n",
       "      <td>0.002918</td>\n",
       "      <td>111</td>\n",
       "    </tr>\n",
       "    <tr>\n",
       "      <th>50</th>\n",
       "      <td>500</td>\n",
       "      <td>0.037097</td>\n",
       "      <td>0.006540</td>\n",
       "      <td>511</td>\n",
       "    </tr>\n",
       "    <tr>\n",
       "      <th>100</th>\n",
       "      <td>1000</td>\n",
       "      <td>0.043717</td>\n",
       "      <td>0.010571</td>\n",
       "      <td>1011</td>\n",
       "    </tr>\n",
       "    <tr>\n",
       "      <th>150</th>\n",
       "      <td>1500</td>\n",
       "      <td>0.047916</td>\n",
       "      <td>0.013313</td>\n",
       "      <td>1511</td>\n",
       "    </tr>\n",
       "    <tr>\n",
       "      <th>200</th>\n",
       "      <td>2000</td>\n",
       "      <td>0.050186</td>\n",
       "      <td>0.018342</td>\n",
       "      <td>2011</td>\n",
       "    </tr>\n",
       "    <tr>\n",
       "      <th>250</th>\n",
       "      <td>2500</td>\n",
       "      <td>0.053111</td>\n",
       "      <td>0.020681</td>\n",
       "      <td>2511</td>\n",
       "    </tr>\n",
       "    <tr>\n",
       "      <th>300</th>\n",
       "      <td>3000</td>\n",
       "      <td>0.055554</td>\n",
       "      <td>0.022937</td>\n",
       "      <td>3011</td>\n",
       "    </tr>\n",
       "  </tbody>\n",
       "</table>\n",
       "</div>"
      ],
      "text/plain": [
       "     iterations   fitness      time  fevals\n",
       "5            50  0.024550  0.002126      61\n",
       "10          100  0.027573  0.002918     111\n",
       "50          500  0.037097  0.006540     511\n",
       "100        1000  0.043717  0.010571    1011\n",
       "150        1500  0.047916  0.013313    1511\n",
       "200        2000  0.050186  0.018342    2011\n",
       "250        2500  0.053111  0.020681    2511\n",
       "300        3000  0.055554  0.022937    3011"
      ]
     },
     "execution_count": 24,
     "metadata": {},
     "output_type": "execute_result"
    }
   ],
   "source": [
    "#Change this\n",
    "df = df_concats[0]\n",
    "df"
   ]
  },
  {
   "cell_type": "code",
   "execution_count": 25,
   "metadata": {
    "collapsed": true
   },
   "outputs": [],
   "source": [
    "with open(name, 'w') as f:\n",
    "    f.write('#RHC\\n')\n",
    "df.to_csv(name, sep=',', mode='a', header=True)"
   ]
  }
 ],
 "metadata": {
  "kernelspec": {
   "display_name": "Python 3",
   "language": "python",
   "name": "python3"
  },
  "language_info": {
   "codemirror_mode": {
    "name": "ipython",
    "version": 3
   },
   "file_extension": ".py",
   "mimetype": "text/x-python",
   "name": "python",
   "nbconvert_exporter": "python",
   "pygments_lexer": "ipython3",
   "version": "3.6.2"
  }
 },
 "nbformat": 4,
 "nbformat_minor": 2
}
