{
 "cells": [
  {
   "cell_type": "code",
   "execution_count": 1,
   "metadata": {
    "collapsed": true
   },
   "outputs": [],
   "source": [
    "import pandas as pd\n",
    "import numpy as np\n",
    "import matplotlib.pyplot as plt\n",
    "import glob"
   ]
  },
  {
   "cell_type": "code",
   "execution_count": 2,
   "metadata": {
    "collapsed": true
   },
   "outputs": [],
   "source": [
    "files = glob.glob('../CONTPEAKS/RHC/*.csv')\n",
    "files.sort()\n",
    "#Number of Trials\n",
    "trials = 3\n",
    "#File name beginining\n",
    "nb = 27\n",
    "#File name ending\n",
    "ne = -10\n",
    "#Output file\n",
    "name = '../CONTPEAKS/contpeaks.csv'\n",
    "#Range\n",
    "r = [5,10,50,100,200,300,400,500]"
   ]
  },
  {
   "cell_type": "code",
   "execution_count": 3,
   "metadata": {},
   "outputs": [
    {
     "data": {
      "text/plain": [
       "['../CONTPEAKS/RHC/CONTPEAKS_RHC_1_LOG.csv',\n",
       " '../CONTPEAKS/RHC/CONTPEAKS_RHC_2_LOG.csv',\n",
       " '../CONTPEAKS/RHC/CONTPEAKS_RHC_3_LOG.csv']"
      ]
     },
     "execution_count": 3,
     "metadata": {},
     "output_type": "execute_result"
    }
   ],
   "source": [
    "files"
   ]
  },
  {
   "cell_type": "code",
   "execution_count": 4,
   "metadata": {
    "collapsed": true
   },
   "outputs": [],
   "source": [
    "dfs = []\n",
    "for indx, f in enumerate(files):\n",
    "    dfs.append(pd.read_csv(f))"
   ]
  },
  {
   "cell_type": "code",
   "execution_count": 5,
   "metadata": {
    "collapsed": true
   },
   "outputs": [],
   "source": [
    "##TEST##\n",
    "# df_concats = []\n",
    "# df_tests = []\n",
    "# for x in range(0,len(dfs),trials):\n",
    "#     df_concat = pd.concat((dfs[x],dfs[x+1]))\n",
    "#     df_test = pd.concat([dfs[x+i] for i in range(trials)])\n"
   ]
  },
  {
   "cell_type": "code",
   "execution_count": 6,
   "metadata": {
    "collapsed": true
   },
   "outputs": [],
   "source": [
    "##TEST##\n",
    "# by_row_index = df_concat.groupby(df_concat.index)\n",
    "# df_means = by_row_index.mean()\n",
    "# df_concats.append(df_means.loc[r])\n",
    "# df_concats"
   ]
  },
  {
   "cell_type": "code",
   "execution_count": 7,
   "metadata": {
    "collapsed": true
   },
   "outputs": [],
   "source": [
    "##TEST##\n",
    "# by_row_index = df_test.groupby(df_test.index)\n",
    "# df_means = by_row_index.mean()\n",
    "# df_tests.append(df_means.loc[r])\n",
    "# df_tests"
   ]
  },
  {
   "cell_type": "code",
   "execution_count": 8,
   "metadata": {
    "collapsed": true
   },
   "outputs": [],
   "source": [
    "df_concats = []\n",
    "for x in range(0,len(dfs),trials):\n",
    "    df_concat = pd.concat([dfs[x+i] for i in range(trials)])\n",
    "    by_row_index = df_concat.groupby(df_concat.index)\n",
    "    df_means = by_row_index.mean()\n",
    "    df_concats.append(df_means.loc[r])"
   ]
  },
  {
   "cell_type": "code",
   "execution_count": 9,
   "metadata": {},
   "outputs": [
    {
     "data": {
      "image/png": "[encoded data removed]",
      "text/plain": [
       "<matplotlib.figure.Figure at 0x114b2f1d0>"
      ]
     },
     "metadata": {},
     "output_type": "display_data"
    }
   ],
   "source": [
    "ax = plt.subplot(111)\n",
    "for i,row in enumerate(df_concats):\n",
    "    ax.plot(row[['iterations']],row[['fitness']], label = files[i*trials][nb:ne])\n",
    "    \n",
    "ax.legend()    \n",
    "chartBox = ax.get_position()\n",
    "ax.legend(loc='upper center', bbox_to_anchor=(0.5, -0.05),  shadow=True, ncol=2)\n",
    "plt.show()"
   ]
  },
  {
   "cell_type": "code",
   "execution_count": 10,
   "metadata": {},
   "outputs": [
    {
     "data": {
      "image/png": "[encoded data removed]",
      "text/plain": [
       "<matplotlib.figure.Figure at 0x114f3d3c8>"
      ]
     },
     "metadata": {},
     "output_type": "display_data"
    }
   ],
   "source": [
    "ax = plt.subplot(111)\n",
    "for i,row in enumerate(df_concats):\n",
    "    ax.plot(row[['iterations']],row[['time']], label = files[i*trials][nb:ne])\n",
    "    \n",
    "ax.legend()    \n",
    "chartBox = ax.get_position()\n",
    "ax.legend(loc='upper center', bbox_to_anchor=(0.5, -0.05),  shadow=True, ncol=2)\n",
    "plt.show()"
   ]
  },
  {
   "cell_type": "code",
   "execution_count": 11,
   "metadata": {},
   "outputs": [
    {
     "name": "stdout",
     "output_type": "stream",
     "text": [
      "0 RHC\n"
     ]
    }
   ],
   "source": [
    "for i in range(len(df_concats)):\n",
    "    print(i, files[i*trials][nb:ne])"
   ]
  },
  {
   "cell_type": "code",
   "execution_count": 12,
   "metadata": {},
   "outputs": [
    {
     "data": {
      "text/html": [
       "<div>\n",
       "<style>\n",
       "    .dataframe thead tr:only-child th {\n",
       "        text-align: right;\n",
       "    }\n",
       "\n",
       "    .dataframe thead th {\n",
       "        text-align: left;\n",
       "    }\n",
       "\n",
       "    .dataframe tbody tr th {\n",
       "        vertical-align: top;\n",
       "    }\n",
       "</style>\n",
       "<table border=\"1\" class=\"dataframe\">\n",
       "  <thead>\n",
       "    <tr style=\"text-align: right;\">\n",
       "      <th></th>\n",
       "      <th>iterations</th>\n",
       "      <th>fitness</th>\n",
       "      <th>time</th>\n",
       "      <th>fevals</th>\n",
       "    </tr>\n",
       "  </thead>\n",
       "  <tbody>\n",
       "    <tr>\n",
       "      <th>5</th>\n",
       "      <td>50</td>\n",
       "      <td>17.333333</td>\n",
       "      <td>0.001829</td>\n",
       "      <td>61</td>\n",
       "    </tr>\n",
       "    <tr>\n",
       "      <th>10</th>\n",
       "      <td>100</td>\n",
       "      <td>19.000000</td>\n",
       "      <td>0.002553</td>\n",
       "      <td>111</td>\n",
       "    </tr>\n",
       "    <tr>\n",
       "      <th>50</th>\n",
       "      <td>500</td>\n",
       "      <td>30.666667</td>\n",
       "      <td>0.008259</td>\n",
       "      <td>511</td>\n",
       "    </tr>\n",
       "    <tr>\n",
       "      <th>100</th>\n",
       "      <td>1000</td>\n",
       "      <td>41.333333</td>\n",
       "      <td>0.012702</td>\n",
       "      <td>1011</td>\n",
       "    </tr>\n",
       "    <tr>\n",
       "      <th>200</th>\n",
       "      <td>2000</td>\n",
       "      <td>66.666667</td>\n",
       "      <td>0.020987</td>\n",
       "      <td>2011</td>\n",
       "    </tr>\n",
       "    <tr>\n",
       "      <th>300</th>\n",
       "      <td>3000</td>\n",
       "      <td>80.666667</td>\n",
       "      <td>0.027316</td>\n",
       "      <td>3011</td>\n",
       "    </tr>\n",
       "    <tr>\n",
       "      <th>400</th>\n",
       "      <td>4000</td>\n",
       "      <td>91.000000</td>\n",
       "      <td>0.032877</td>\n",
       "      <td>4011</td>\n",
       "    </tr>\n",
       "    <tr>\n",
       "      <th>500</th>\n",
       "      <td>5000</td>\n",
       "      <td>96.000000</td>\n",
       "      <td>0.039275</td>\n",
       "      <td>5011</td>\n",
       "    </tr>\n",
       "  </tbody>\n",
       "</table>\n",
       "</div>"
      ],
      "text/plain": [
       "     iterations    fitness      time  fevals\n",
       "5            50  17.333333  0.001829      61\n",
       "10          100  19.000000  0.002553     111\n",
       "50          500  30.666667  0.008259     511\n",
       "100        1000  41.333333  0.012702    1011\n",
       "200        2000  66.666667  0.020987    2011\n",
       "300        3000  80.666667  0.027316    3011\n",
       "400        4000  91.000000  0.032877    4011\n",
       "500        5000  96.000000  0.039275    5011"
      ]
     },
     "execution_count": 12,
     "metadata": {},
     "output_type": "execute_result"
    }
   ],
   "source": [
    "#Change this\n",
    "df = df_concats[0]\n",
    "df"
   ]
  },
  {
   "cell_type": "code",
   "execution_count": 13,
   "metadata": {
    "collapsed": true
   },
   "outputs": [],
   "source": [
    "with open(name, 'w') as f:\n",
    "    f.write('#RHC\\n')\n",
    "df.to_csv(name, sep=',', mode='a', header=True)"
   ]
  }
 ],
 "metadata": {
  "kernelspec": {
   "display_name": "Python 3",
   "language": "python",
   "name": "python3"
  },
  "language_info": {
   "codemirror_mode": {
    "name": "ipython",
    "version": 3
   },
   "file_extension": ".py",
   "mimetype": "text/x-python",
   "name": "python",
   "nbconvert_exporter": "python",
   "pygments_lexer": "ipython3",
   "version": "3.6.2"
  }
 },
 "nbformat": 4,
 "nbformat_minor": 2
}
